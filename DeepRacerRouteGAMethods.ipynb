{
 "cells": [
  {
   "cell_type": "markdown",
   "metadata": {},
   "source": [
    "### This file contains implementations of the methods necessary to implement a genetic algorithm to search for an optimal racetrack route\n",
    "1) Initialization method: Creates a new RacetrackCommandNodeSeries object"
   ]
  },
  {
   "cell_type": "code",
   "execution_count": null,
   "metadata": {},
   "outputs": [],
   "source": [
    "import random"
   ]
  },
  {
   "cell_type": "code",
   "execution_count": null,
   "metadata": {},
   "outputs": [],
   "source": [
    "#How many waypoint indices between command points. \n",
    "#For long tracks with few curves, this should be calibrated to a higher number\n",
    "#For tracks that are twisty or with few nodes, it should be a lower number\n",
    "init_cp_frequency = 20\n",
    "verbosity = 1"
   ]
  },
  {
   "cell_type": "code",
   "execution_count": null,
   "metadata": {},
   "outputs": [],
   "source": [
    "#Define and assign our genetic algorithm methods\n",
    "#Dependent on initialization of a global racetrack object of type Racetrack\n",
    "def initializationMethod():\n",
    "    command_node_series = RacetrackCommandNodeSeries(racetrack, init_cp_frequency=init_cp_frequency, verbosity=verbosity)\n",
    "    command_node_series.generateRandomCommandNodes()\n",
    "    return command_node_series"
   ]
  },
  {
   "cell_type": "code",
   "execution_count": null,
   "metadata": {},
   "outputs": [],
   "source": [
    "#\"Cut out\" the same section of the route from each crossover racetrack and swap them between command node series objects\n",
    "def crossoverMethod(racetrackCommandNodeSeries1, racetrackCommandNodeSeries2):\n",
    "    inner_waypoints_len = len(racetrackCommandNodeSeries1.racetrack.waypoints_inner)\n",
    "    wp_1_idx = random.randint(0,inner_waypoints_len)\n",
    "    wp_2_idx = random.randint(0,inner_waypoints_len)\n",
    "    #Re-roll if both cutpoints are same index\n",
    "    while wp_1_idx == wp_2_idx:\n",
    "        wp_2_idx = random.randint(0,inner_waypoints_len)\n",
    "        \n",
    "    #Sort so that wp_1 < wp_2   \n",
    "    if wp_2_idx < wp_1_idx:\n",
    "        wp_3_idx = wp_2_idx\n",
    "        wp_2_idx = wp_1_idx\n",
    "        wp_1_idx = wp_3_idx\n",
    "        \n",
    "    #Get start and end indices of sub-arrays within wp_1_idx and wp_2_idx. Calculate command node cutpoints based on waypoint cutpoints\n",
    "    cns1_start_idx = -1\n",
    "    cns1_end_idx = -1\n",
    "    for idx, command_node in enumerate(racetrackCommandNodeSeries1.command_nodes):\n",
    "        if command_node[0] >= wp_1_idx and cns1_start_idx == -1: cns1_start_idx = idx\n",
    "        if command_node[0] >= wp_2_idx and cns1_end_idx == -1: cns1_end_idx = idx\n",
    "    cns2_start_idx = -1\n",
    "    cns2_end_idx = -1\n",
    "    for idx, command_node in enumerate(racetrackCommandNodeSeries2.command_nodes):\n",
    "        if command_node[0] >= wp_1_idx and cns2_start_idx == -1: cns2_start_idx = idx\n",
    "        if command_node[0] >= wp_2_idx and cns2_end_idx == -1: cns2_end_idx = idx     \n",
    "    #Get references to sub-arrays within wp_1_idx and wp_2_idx then swap them\n",
    "    cns_sublist_1 = racetrackCommandNodeSeries1.command_nodes[cns1_start_idx:cns1_end_idx]\n",
    "    cns_sublist_2 = racetrackCommandNodeSeries2.command_nodes[cns2_start_idx:cns2_end_idx]\n",
    "    racetrackCommandNodeSeries1.command_nodes[cns1_start_idx:cns1_end_idx] = cns_sublist_2\n",
    "    racetrackCommandNodeSeries2.command_nodes[cns2_start_idx:cns2_end_idx] = cns_sublist_1\n",
    "    racetrackCommandNodeSeries1.validateAndFixObstructions()\n",
    "    racetrackCommandNodeSeries2.validateAndFixObstructions()\n",
    "    \n",
    "    return racetrackCommandNodeSeries1, racetrackCommandNodeSeries2"
   ]
  },
  {
   "cell_type": "code",
   "execution_count": null,
   "metadata": {},
   "outputs": [],
   "source": [
    "#Define fitness method as route traversal time approximation\n",
    "def fitnessMethod(a):\n",
    "    return a.routeFitness()"
   ]
  },
  {
   "cell_type": "code",
   "execution_count": null,
   "metadata": {},
   "outputs": [],
   "source": [
    "# Stochastic selection from among 3 mutation operations\n",
    "# 0=Delete a command node\n",
    "# 1=Add a new command node\n",
    "# 2=Modify distance of an existing command node\n",
    "def mutationMethod(racetrackCommandNodeSeries): \n",
    "    mutation_op = random.randint(0,2)\n",
    "    mutation_node_idx = random.randint(1,len(racetrackCommandNodeSeries.command_nodes)-2)\n",
    "    if mutation_op == 0:\n",
    "        del racetrackCommandNodeSeries.command_nodes[mutation_node_idx]\n",
    "    if mutation_op == 1:\n",
    "        mutation_node_idx = random.randint(0,len(racetrackCommandNodeSeries.racetrack.waypoints_inner)-1)\n",
    "        racetrackCommandNodeSeries.generateRandomCommandNodeAtIndex(mutation_node_idx)\n",
    "    if mutation_op == 2:\n",
    "        track_width = racetrackCommandNodeSeries.racetrack.trackwidth\n",
    "        dist_from_inner_waypoint = np.random.uniform(0, track_width/2) + np.random.uniform(0, track_width/2)\n",
    "        racetrackCommandNodeSeries.command_nodes[mutation_node_idx][1] = dist_from_inner_waypoint\n",
    "    racetrackCommandNodeSeries.validateAndFixObstructions()"
   ]
  },
  {
   "cell_type": "code",
   "execution_count": null,
   "metadata": {},
   "outputs": [],
   "source": [
    "#Print the best score and plot the best route for each generation\n",
    "def reportingMethod(phenotype_score_arr):\n",
    "    #print('Best route score:', phenotype_score_arr[0][1])\n",
    "    phenotype_score_arr[0][0].plotTrackAndRoute()\n",
    "    print('Top 5 route fitness scores')\n",
    "    print('--------------------------')\n",
    "    for idx, phenotype_score_tuple in enumerate(phenotype_score_arr):\n",
    "        if idx > 5: break; #5 is enough\n",
    "        print((idx+1),\":\",phenotype_score_tuple[1])"
   ]
  }
 ],
 "metadata": {
  "kernelspec": {
   "display_name": "Python 3",
   "language": "python",
   "name": "python3"
  },
  "language_info": {
   "codemirror_mode": {
    "name": "ipython",
    "version": 3
   },
   "file_extension": ".py",
   "mimetype": "text/x-python",
   "name": "python",
   "nbconvert_exporter": "python",
   "pygments_lexer": "ipython3",
   "version": "3.7.4"
  }
 },
 "nbformat": 4,
 "nbformat_minor": 4
}
